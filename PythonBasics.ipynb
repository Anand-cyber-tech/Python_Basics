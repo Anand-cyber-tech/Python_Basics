{
  "nbformat": 4,
  "nbformat_minor": 0,
  "metadata": {
    "colab": {
      "provenance": [],
      "gpuType": "T4"
    },
    "kernelspec": {
      "name": "python3",
      "display_name": "Python 3"
    },
    "language_info": {
      "name": "python"
    }
  },
  "cells": [
    {
      "cell_type": "markdown",
      "source": [
        "#Python Basics Questions\n",
        "\n",
        "1.what is python and why is it so popular?\n",
        ">-python is a general-purpose interpreted,interactive,object oriented and high level programming language.\n",
        "python is so popular because it is easy to learn,is versatile and has a large community of developers."
      ],
      "metadata": {
        "id": "wbamqNiZkMYA"
      }
    },
    {
      "cell_type": "markdown",
      "source": [
        "2.What is an interpreter in python?\n",
        ">-interpreter is a computer program that converts each high level program statement into machine code."
      ],
      "metadata": {
        "id": "oFLxF7CCmH-K"
      }
    },
    {
      "cell_type": "markdown",
      "source": [
        "3.What are pre-defined keywords in python?\n",
        ">-Predefined keywords are special words which convey a special meaning to compiler or interpreter.\n",
        "eg:False,None,True..etc."
      ],
      "metadata": {
        "id": "xoNOSOFVmyEt"
      }
    },
    {
      "cell_type": "markdown",
      "source": [
        "4.Can keywords be used as variable names?\n",
        ">-No,keywords cannot be used as variable names.Because,keywords should only be used as word which convey a special meaning to the interpreter,else it may result in any error.\n"
      ],
      "metadata": {
        "id": "dPwQHKpxnbCn"
      }
    },
    {
      "cell_type": "markdown",
      "source": [
        "5.What is mutability in python?\n",
        ">-mutability is the ability to change the state or value in python.The object whose state or value can be changed after they are created are called mutable object or container.it is also known as item assignment."
      ],
      "metadata": {
        "id": "m6LIJonToST3"
      }
    },
    {
      "cell_type": "markdown",
      "source": [
        "6.Why are lists mutable,but tuples immutable?\n",
        ">-Because in list we are able to change any value/element into any other value/element.\n",
        "while in tuples it is impossible to change a given value into any other value/element."
      ],
      "metadata": {
        "id": "4HJ5OwQUpPT5"
      }
    },
    {
      "cell_type": "markdown",
      "source": [
        "7.What is the difference between \"==\" and \"is\" operators in python?\n",
        ">-The \"==\" operator compares the equality of the objects,meanwhile the \"is\" operator checks if the objects are identical or not."
      ],
      "metadata": {
        "id": "mYq0RMQZp9ut"
      }
    },
    {
      "cell_type": "markdown",
      "source": [
        "8.what are logical operators in python?\n",
        ">-there mainly three logical operators in python.\n",
        "a)and-returns True if both operands are true.\n",
        "b)or-returns True if atleast one operand is true.\n",
        "c)not-reverses results,so if something is true it reverses the result."
      ],
      "metadata": {
        "id": "sa-GzKDFq5vM"
      }
    },
    {
      "cell_type": "markdown",
      "source": [
        "9.What is type casting in python?\n",
        ">-The process changing the data type of a value/object is type casting/conversion.it is of two types explicit and implicit type casting."
      ],
      "metadata": {
        "id": "by3tyN4tsSwR"
      }
    },
    {
      "cell_type": "markdown",
      "source": [
        "10.What is the difference between implicit and explicit type casting?\n",
        ">-The implicit type conversion happens automatically.But the explicit type casting is done by our self manually."
      ],
      "metadata": {
        "id": "hsSMIuuctr7C"
      }
    },
    {
      "cell_type": "markdown",
      "source": [
        "11.What is the purpose of conditional statements in python?\n",
        ">-The purpose of conditional statements are to help to code desicions based on some preconditon."
      ],
      "metadata": {
        "id": "6Vaop28YujrS"
      }
    },
    {
      "cell_type": "markdown",
      "source": [
        "12.How does the elif statement work?\n",
        ">-elif statements are for executing more than 2 conditins.if the first condition is false ,it moves on o the next'elif' statement to check if that condition is true."
      ],
      "metadata": {
        "id": "4BqrWbptvKlR"
      }
    },
    {
      "cell_type": "markdown",
      "source": [
        "13.What is the difference between for and while loops?\n",
        ">-The 'for' loop is used when we know how many times to repeat a block of code,but a 'while' loop is used when we don't know how many times to repeat a block of code."
      ],
      "metadata": {
        "id": "MARBIE1ewJ7o"
      }
    },
    {
      "cell_type": "markdown",
      "source": [
        "14.Describe a scenario where while loop is more suitable than a for loop.\n",
        ">-The while loop is a better choice than for loop in a scenario where ,if we want the loop to break based on a condition other than the number of time it runs."
      ],
      "metadata": {
        "id": "uqJ6v-z5w8x6"
      }
    },
    {
      "cell_type": "markdown",
      "source": [
        "#Practical Questions\n",
        "1.Write a python program to print \"Hello,World!\"."
      ],
      "metadata": {
        "id": "paNkaqj1yGT9"
      }
    },
    {
      "cell_type": "code",
      "source": [
        "print(\"Hello,World!\")"
      ],
      "metadata": {
        "colab": {
          "base_uri": "https://localhost:8080/"
        },
        "id": "FMiUPtWvyrgl",
        "outputId": "0e15c11f-13bb-48ed-f701-92926333b589"
      },
      "execution_count": null,
      "outputs": [
        {
          "output_type": "stream",
          "name": "stdout",
          "text": [
            "Hello,World!\n"
          ]
        }
      ]
    },
    {
      "cell_type": "markdown",
      "source": [
        "2.Write a python code which displays your name and age."
      ],
      "metadata": {
        "id": "gSZZ33KWy4yu"
      }
    },
    {
      "cell_type": "code",
      "source": [
        "name=input(\"Enter your name:\")\n",
        "age=int(input(\"Enter your age:\"))\n",
        "print(\"Name:\",name)\n",
        "print(\"Age:\",age)\n"
      ],
      "metadata": {
        "colab": {
          "base_uri": "https://localhost:8080/"
        },
        "id": "lIiqmr7TzFrp",
        "outputId": "64fe086a-7374-4d87-b6a0-56a322f5973c"
      },
      "execution_count": null,
      "outputs": [
        {
          "output_type": "stream",
          "name": "stdout",
          "text": [
            "Enter your name:Anand Rajeev\n",
            "Enter your age:21\n",
            "Name: Anand Rajeev\n",
            "Age: 21\n"
          ]
        }
      ]
    },
    {
      "cell_type": "markdown",
      "source": [
        "3.Write code to print all the pre-defined keywords in python using keyword library."
      ],
      "metadata": {
        "id": "feMdrt9R0Ndq"
      }
    },
    {
      "cell_type": "code",
      "source": [
        "import keyword\n",
        "print(keyword.kwlist)"
      ],
      "metadata": {
        "colab": {
          "base_uri": "https://localhost:8080/"
        },
        "id": "-hz13Ff70kXV",
        "outputId": "9947fe06-a75e-4e55-a917-c4e7db86dfef"
      },
      "execution_count": null,
      "outputs": [
        {
          "output_type": "stream",
          "name": "stdout",
          "text": [
            "['False', 'None', 'True', 'and', 'as', 'assert', 'async', 'await', 'break', 'class', 'continue', 'def', 'del', 'elif', 'else', 'except', 'finally', 'for', 'from', 'global', 'if', 'import', 'in', 'is', 'lambda', 'nonlocal', 'not', 'or', 'pass', 'raise', 'return', 'try', 'while', 'with', 'yield']\n"
          ]
        }
      ]
    },
    {
      "cell_type": "markdown",
      "source": [
        "4.write a program which checks if a  given keyword is python keyword."
      ],
      "metadata": {
        "id": "7IOTnDV817u8"
      }
    },
    {
      "cell_type": "code",
      "source": [
        "import keyword\n",
        "keeword=input(\"Enter a keyword:\")\n",
        "if keeword in keyword.kwlist:\n",
        "  print(keeword,\"is a python keyword.\")\n",
        "else:\n",
        "  print(keeword,\"is not a python keyword\")"
      ],
      "metadata": {
        "colab": {
          "base_uri": "https://localhost:8080/"
        },
        "id": "NF-yVAdU2qNH",
        "outputId": "56b8b7be-2c66-4215-c046-f996d2ec920a"
      },
      "execution_count": null,
      "outputs": [
        {
          "output_type": "stream",
          "name": "stdout",
          "text": [
            "Enter a keyword:True\n",
            "True is a python keyword.\n"
          ]
        }
      ]
    },
    {
      "cell_type": "markdown",
      "source": [
        "5.Create a list and tuple in python, and demonstrate how attempting to change an element works differently on each."
      ],
      "metadata": {
        "id": "kq5brQYq4BJA"
      }
    },
    {
      "cell_type": "code",
      "source": [
        "#list\n",
        "l_st=[1,2,3,4,5]\n",
        "print(l_st)\n",
        "l_st[2]=6 #changing 2nd index from 3 to 6.\n",
        "print(l_st)"
      ],
      "metadata": {
        "id": "WBfozPrx4cgs",
        "colab": {
          "base_uri": "https://localhost:8080/"
        },
        "outputId": "e3a43c07-eaab-4918-9558-623086849661"
      },
      "execution_count": null,
      "outputs": [
        {
          "output_type": "stream",
          "name": "stdout",
          "text": [
            "[1, 2, 3, 4, 5]\n",
            "[1, 2, 6, 4, 5]\n"
          ]
        }
      ]
    },
    {
      "cell_type": "code",
      "source": [
        "#tuple\n",
        "t_ple=(1,2,3,4,5)\n",
        "print(t_ple)\n",
        "t_ple[2]=6 #changing 2nd index from 3 to 6.\n",
        "print(t_ple)  #Here changing elements will result in error as it is not possible because tuples are immutable."
      ],
      "metadata": {
        "colab": {
          "base_uri": "https://localhost:8080/",
          "height": 219
        },
        "id": "KSyPTH7-5DWq",
        "outputId": "474a8b39-7d1c-4855-e44c-2c56ae4cfb97"
      },
      "execution_count": null,
      "outputs": [
        {
          "output_type": "stream",
          "name": "stdout",
          "text": [
            "(1, 2, 3, 4, 5)\n"
          ]
        },
        {
          "output_type": "error",
          "ename": "TypeError",
          "evalue": "'tuple' object does not support item assignment",
          "traceback": [
            "\u001b[0;31m---------------------------------------------------------------------------\u001b[0m",
            "\u001b[0;31mTypeError\u001b[0m                                 Traceback (most recent call last)",
            "\u001b[0;32m<ipython-input-3-7426e517246d>\u001b[0m in \u001b[0;36m<cell line: 4>\u001b[0;34m()\u001b[0m\n\u001b[1;32m      2\u001b[0m \u001b[0mt_ple\u001b[0m\u001b[0;34m=\u001b[0m\u001b[0;34m(\u001b[0m\u001b[0;36m1\u001b[0m\u001b[0;34m,\u001b[0m\u001b[0;36m2\u001b[0m\u001b[0;34m,\u001b[0m\u001b[0;36m3\u001b[0m\u001b[0;34m,\u001b[0m\u001b[0;36m4\u001b[0m\u001b[0;34m,\u001b[0m\u001b[0;36m5\u001b[0m\u001b[0;34m)\u001b[0m\u001b[0;34m\u001b[0m\u001b[0;34m\u001b[0m\u001b[0m\n\u001b[1;32m      3\u001b[0m \u001b[0mprint\u001b[0m\u001b[0;34m(\u001b[0m\u001b[0mt_ple\u001b[0m\u001b[0;34m)\u001b[0m\u001b[0;34m\u001b[0m\u001b[0;34m\u001b[0m\u001b[0m\n\u001b[0;32m----> 4\u001b[0;31m \u001b[0mt_ple\u001b[0m\u001b[0;34m[\u001b[0m\u001b[0;36m2\u001b[0m\u001b[0;34m]\u001b[0m\u001b[0;34m=\u001b[0m\u001b[0;36m6\u001b[0m \u001b[0;31m#changing 2nd index from 3 to 6.\u001b[0m\u001b[0;34m\u001b[0m\u001b[0;34m\u001b[0m\u001b[0m\n\u001b[0m\u001b[1;32m      5\u001b[0m \u001b[0mprint\u001b[0m\u001b[0;34m(\u001b[0m\u001b[0mt_ple\u001b[0m\u001b[0;34m)\u001b[0m\u001b[0;34m\u001b[0m\u001b[0;34m\u001b[0m\u001b[0m\n",
            "\u001b[0;31mTypeError\u001b[0m: 'tuple' object does not support item assignment"
          ]
        }
      ]
    },
    {
      "cell_type": "markdown",
      "source": [
        "6.Write a function which demonstrates the behavior  of mutable and immutable arguments."
      ],
      "metadata": {
        "id": "9NIbd9Uu5_Q9"
      }
    },
    {
      "cell_type": "code",
      "source": [
        "def mutable_immutable_example(immutable_arg, mutable_arg):\n",
        "    # Attempting to modify immutable argument (string)\n",
        "    try:\n",
        "        immutable_arg += \" Modified\"\n",
        "        print(\"Modified Immutable Argument:\", immutable_arg)\n",
        "    except TypeError as e:\n",
        "        print(\"Error with Immutable Argument:\", e)\n",
        "\n",
        "    # Attempting to modify mutable argument (list)\n",
        "    try:\n",
        "        mutable_arg.append(\"Modified\")\n",
        "        print(\"Modified Mutable Argument:\", mutable_arg)\n",
        "    except AttributeError as e:\n",
        "        print(\"Error with Mutable Argument:\", e)"
      ],
      "metadata": {
        "id": "7PPaM42w60cM"
      },
      "execution_count": null,
      "outputs": []
    },
    {
      "cell_type": "markdown",
      "source": [
        "7.Write a function which demonstrates the behaviour of mutable and immutable arguments."
      ],
      "metadata": {
        "id": "jPAAkyWQ8RQ6"
      }
    },
    {
      "cell_type": "code",
      "source": [
        "def mutable_immutable_example(immutable_arg, mutable_arg):\n",
        "    # Attempting to modify immutable argument (string)\n",
        "    try:\n",
        "        immutable_arg += \" Modified\"\n",
        "        print(\"Modified Immutable Argument:\", immutable_arg)\n",
        "        except TypeError as e:\n",
        "        print(\"Error with Immutable Argument:\", e)\n",
        "\n",
        "    # Attempting to modify mutable argument (list)\n",
        "    try:\n",
        "        mutable_arg.append(\"Modified\")\n",
        "        print(\"Modified Mutable Argument:\", mutable_arg)\n",
        "    except AttributeError as e:\n",
        "        print(\"Error with Mutable Argument:\", e)\n"
      ],
      "metadata": {
        "id": "4B9EVnwQ8pBm"
      },
      "execution_count": null,
      "outputs": []
    },
    {
      "cell_type": "markdown",
      "source": [
        "8.Write a program to demonstrate the use of logical operators."
      ],
      "metadata": {
        "id": "FCZ6insC9Iyy"
      }
    },
    {
      "cell_type": "code",
      "source": [
        "a=True\n",
        "b=False\n",
        "if a and b:\n",
        "  print(\"Both conditions are true\")\n",
        "elif a or b:\n",
        "  print(\"atleast one condition is true\")\n",
        "else:\n",
        "  print(\"neither condition is true\")"
      ],
      "metadata": {
        "colab": {
          "base_uri": "https://localhost:8080/"
        },
        "id": "5Pszx6Xb9VlV",
        "outputId": "afd24500-cf62-453d-ef35-1a9114ad1e66"
      },
      "execution_count": null,
      "outputs": [
        {
          "output_type": "stream",
          "name": "stdout",
          "text": [
            "atleast one condition is true\n"
          ]
        }
      ]
    },
    {
      "cell_type": "markdown",
      "source": [
        "9.Write a python program t convert user input from string,float,and booleantypes."
      ],
      "metadata": {
        "id": "QQ1vk3L8-mvF"
      }
    },
    {
      "cell_type": "code",
      "source": [
        "input_str=input(\"Enter a string:\")\n",
        "input_float=float(input(\"Enter a float:\"))\n",
        "input_bool=bool(input(\"Enter a boolean(True or False):\"))\n",
        "print(\"String:\",input_str) #string\n",
        "print(\"Float:\",input_float) #float\n",
        "print(\"Boolean:\",input_bool) #boolean"
      ],
      "metadata": {
        "colab": {
          "base_uri": "https://localhost:8080/"
        },
        "id": "BFRdAr-c-5iG",
        "outputId": "00783250-4016-4d80-c26a-923f4380222e"
      },
      "execution_count": null,
      "outputs": [
        {
          "output_type": "stream",
          "name": "stdout",
          "text": [
            "Enter a string:hawk\n",
            "Enter a float:6\n",
            "Enter a boolean(True or False):1\n",
            "String: hawk\n",
            "Float: 6.0\n",
            "Boolean: True\n"
          ]
        }
      ]
    },
    {
      "cell_type": "markdown",
      "source": [
        "10.Write a code  to demonstrate type casting with list elements."
      ],
      "metadata": {
        "id": "69jw95il_sf1"
      }
    },
    {
      "cell_type": "code",
      "source": [
        "a=[1,2,3.5,True,3+5j,\"python\"]\n",
        "a[0]=str(a[0]) #type casting 0th element from integer to string.\n",
        "a[1]=float(a[1]) #type casting 1st element from integer to float.\n",
        "a[2]=bool(a[2]) #type casting 2nd element from float to boolean.\n",
        "a[3]=complex(a[3]) #type casting 3rd element from complex to string.\n",
        "a[4]=str(a[4]) #4th element is already a string,we can't type cast a string.\n",
        "print(a)"
      ],
      "metadata": {
        "colab": {
          "base_uri": "https://localhost:8080/"
        },
        "id": "JwWHg-k8_5mS",
        "outputId": "255c9833-7150-4d6d-dbe8-9c7eac600fcd"
      },
      "execution_count": null,
      "outputs": [
        {
          "output_type": "stream",
          "name": "stdout",
          "text": [
            "['1', 2.0, True, (1+0j), '(3+5j)', 'python']\n"
          ]
        }
      ]
    },
    {
      "cell_type": "markdown",
      "source": [
        "11.Write a program that checks if a number is positive,negetive or zero."
      ],
      "metadata": {
        "id": "6ms-B8wZBJRP"
      }
    },
    {
      "cell_type": "code",
      "source": [
        "num=int(input(\"enter a number:\"))\n",
        "if num>0:\n",
        "  print(num,\"is a positive number.\")\n",
        "elif num<0:\n",
        "  print(num,\"is a negetive number.\")\n",
        "else:\n",
        "  print(num,\"is equal to zero.\")"
      ],
      "metadata": {
        "colab": {
          "base_uri": "https://localhost:8080/"
        },
        "id": "8SNDqxYfBt_A",
        "outputId": "73b8ad6f-e229-44c0-ebca-e296b64fa1a4"
      },
      "execution_count": null,
      "outputs": [
        {
          "output_type": "stream",
          "name": "stdout",
          "text": [
            "enter a number:-1\n",
            "-1 is a negetive number.\n"
          ]
        }
      ]
    },
    {
      "cell_type": "markdown",
      "source": [
        "12.Write a for loop to print numbers from 1 to 10."
      ],
      "metadata": {
        "id": "gpAo2TBBCaJ_"
      }
    },
    {
      "cell_type": "code",
      "source": [
        "for i in range(1,11):\n",
        "  print(i,end=\" \")"
      ],
      "metadata": {
        "colab": {
          "base_uri": "https://localhost:8080/"
        },
        "id": "oscPrhm0CniL",
        "outputId": "f48608ab-e5f0-46f4-ad57-0b562f529f4a"
      },
      "execution_count": null,
      "outputs": [
        {
          "output_type": "stream",
          "name": "stdout",
          "text": [
            "1 2 3 4 5 6 7 8 9 10 "
          ]
        }
      ]
    },
    {
      "cell_type": "markdown",
      "source": [
        "13.Write a program to find sum of all even numbers between 1 and 50."
      ],
      "metadata": {
        "id": "hZUQAIt0DTM1"
      }
    },
    {
      "cell_type": "code",
      "source": [
        "sum=0\n",
        "for num in range(1,52):\n",
        "  if num%2==0:\n",
        "    sum+=num\n",
        "    print(num,end=\" \")\n",
        "print(\"\\nsum of all even numbers between 1 and 50:\",sum)"
      ],
      "metadata": {
        "colab": {
          "base_uri": "https://localhost:8080/"
        },
        "id": "xxo6uLBKDvJv",
        "outputId": "a97146d6-c605-4ffa-ec46-febfc2ae522a"
      },
      "execution_count": null,
      "outputs": [
        {
          "output_type": "stream",
          "name": "stdout",
          "text": [
            "2 4 6 8 10 12 14 16 18 20 22 24 26 28 30 32 34 36 38 40 42 44 46 48 50 \n",
            "sum of all even numbers between 1 and 50: 650\n"
          ]
        }
      ]
    },
    {
      "cell_type": "markdown",
      "source": [
        "14.write a program to reverse string using while loop."
      ],
      "metadata": {
        "id": "U3TDo3hZE1PV"
      }
    },
    {
      "cell_type": "code",
      "source": [
        "n=input(\"enter a string:\")\n",
        "i=len(n)-1\n",
        "while i>=0:\n",
        "  print(n[i],end=\"\")\n",
        "  i-=1"
      ],
      "metadata": {
        "colab": {
          "base_uri": "https://localhost:8080/"
        },
        "id": "9S6LRXYrE_cF",
        "outputId": "efdf705f-fd84-441a-e2ef-5a2ca921fa79"
      },
      "execution_count": null,
      "outputs": [
        {
          "output_type": "stream",
          "name": "stdout",
          "text": [
            "enter a string:python\n",
            "nohtyp"
          ]
        }
      ]
    },
    {
      "cell_type": "markdown",
      "source": [
        "15.Write a python to calculate the factorial of a number provided by the user using while loop."
      ],
      "metadata": {
        "id": "xood0dFHFUI9"
      }
    },
    {
      "cell_type": "code",
      "source": [
        "num=int(input(\"enter a number:\"))\n",
        "fac=1\n",
        "i=1\n",
        "while i<=num:\n",
        "  fac*=i\n",
        "  i+=1\n",
        "  print(i,end=\" \")\n",
        "print(\"\\nfactorial of\",num,\"is:\",fac)\n"
      ],
      "metadata": {
        "colab": {
          "base_uri": "https://localhost:8080/"
        },
        "id": "esOcPE0wFnVc",
        "outputId": "cd2edf96-cd04-44d1-b253-cb492d3f31f3"
      },
      "execution_count": null,
      "outputs": [
        {
          "output_type": "stream",
          "name": "stdout",
          "text": [
            "enter a number:23\n",
            "2 3 4 5 6 7 8 9 10 11 12 13 14 15 16 17 18 19 20 21 22 23 24 \n",
            "factorial of 23 is: 25852016738884976640000\n"
          ]
        }
      ]
    }
  ]
}